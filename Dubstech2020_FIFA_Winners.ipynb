{
 "cells": [
  {
   "cell_type": "markdown",
   "metadata": {},
   "source": [
    "## Datathon 2020\n",
    "\n",
    "Date: 15 Feb 2020\n",
    "\n",
    "__Dubstech__\n",
    "\n",
    "### Group Members:\n",
    "\n",
    "1.\tAftab\n",
    "2.\tSrijani\n",
    "3.  Apurbha\n",
    "4.\tSrinivas\n",
    "\n",
    "    "
   ]
  },
  {
   "cell_type": "markdown",
   "metadata": {},
   "source": [
    "- We are analyzing FIFA players attribute datasets for the years 2015 to 2020 collected from the EA Sports Fifa Game series.\n",
    "\n",
    "- In FIFA, Player Attributes are the data and information that determine the quality and the feature of a player's technical skills, behaviours and performance on the pitch. \n",
    "\n",
    "- In FIFA, FUT and FIFA Mobile, each player has a collection of attributes rated from 0 to 99 each. \n",
    "\n",
    "- The average of a player's attributes sums up their overall Rating.\n",
    "\n",
    "- Most of the time we considering the feature \"overall\" for all our ongoing work\n"
   ]
  },
  {
   "cell_type": "markdown",
   "metadata": {},
   "source": [
    "__Importing Required Libraries__"
   ]
  },
  {
   "cell_type": "code",
   "execution_count": 1,
   "metadata": {},
   "outputs": [],
   "source": [
    "# Basic Libraries\n",
    "\n",
    "import pandas as pd\n",
    "import numpy as np \n",
    "import os\n",
    "\n",
    "# data visualization\n",
    "import seaborn as sns\n",
    "%matplotlib inline\n",
    "from matplotlib import pyplot as plt\n",
    "from matplotlib import style\n",
    "\n",
    "# Algorithms\n",
    "from sklearn import linear_model\n",
    "from sklearn.linear_model import LogisticRegression\n",
    "from sklearn.ensemble import RandomForestClassifier\n",
    "from sklearn.linear_model import Perceptron\n",
    "from sklearn.linear_model import SGDClassifier\n",
    "from sklearn.tree import DecisionTreeClassifier\n",
    "from sklearn.neighbors import KNeighborsClassifier\n",
    "from sklearn.svm import SVC, LinearSVC\n",
    "from sklearn.naive_bayes import GaussianNB\n",
    "from sklearn.model_selection import train_test_split\n",
    "\n",
    "import warnings\n",
    "warnings.filterwarnings(\"ignore\")"
   ]
  },
  {
   "cell_type": "code",
   "execution_count": 2,
   "metadata": {},
   "outputs": [],
   "source": [
    "## Importing data in to respective dataframes\n",
    "\n",
    "P15 = pd.read_csv(\"fifa-20-complete-player-dataset/players_15.csv\")\n",
    "P16 = pd.read_csv(\"fifa-20-complete-player-dataset/players_16.csv\")\n",
    "P17 = pd.read_csv(\"fifa-20-complete-player-dataset/players_17.csv\")\n",
    "P18 = pd.read_csv(\"fifa-20-complete-player-dataset/players_18.csv\")\n",
    "P19 = pd.read_csv(\"fifa-20-complete-player-dataset/players_19.csv\")\n",
    "P20 = pd.read_csv(\"fifa-20-complete-player-dataset/players_20.csv\")\n",
    "leaguesnteams = pd.read_csv(\"fifa-20-complete-player-dataset/teams_and_leagues.csv\")\n",
    "\n",
    "## Imputing year in to the datasets \n",
    "P15['year'] = 2015\n",
    "P16['year'] = 2016\n",
    "P17['year'] = 2017\n",
    "P18['year'] = 2018\n",
    "P19['year'] = 2019\n",
    "P20['year'] = 2020"
   ]
  },
  {
   "cell_type": "code",
   "execution_count": 3,
   "metadata": {},
   "outputs": [],
   "source": [
    "# merging data \n",
    "players = pd.concat([P15, P16 , P17, P18, P19, P20])"
   ]
  },
  {
   "cell_type": "markdown",
   "metadata": {},
   "source": [
    "__we merged all years dataset to one single dataset__"
   ]
  },
  {
   "cell_type": "markdown",
   "metadata": {},
   "source": [
    "For growth trends in players and to allow comparison and trend analysis of the same players across the last 6 Years, we considering the observations where the player available in all 6 years only.\n"
   ]
  },
  {
   "cell_type": "code",
   "execution_count": 4,
   "metadata": {},
   "outputs": [
    {
     "data": {
      "text/plain": [
       "(100995, 105)"
      ]
     },
     "execution_count": 4,
     "metadata": {},
     "output_type": "execute_result"
    }
   ],
   "source": [
    "players.shape"
   ]
  },
  {
   "cell_type": "markdown",
   "metadata": {},
   "source": [
    "__Data set size after merging all years is 100995__"
   ]
  },
  {
   "cell_type": "code",
   "execution_count": 5,
   "metadata": {},
   "outputs": [
    {
     "data": {
      "text/html": [
       "<div>\n",
       "<style scoped>\n",
       "    .dataframe tbody tr th:only-of-type {\n",
       "        vertical-align: middle;\n",
       "    }\n",
       "\n",
       "    .dataframe tbody tr th {\n",
       "        vertical-align: top;\n",
       "    }\n",
       "\n",
       "    .dataframe thead th {\n",
       "        text-align: right;\n",
       "    }\n",
       "</style>\n",
       "<table border=\"1\" class=\"dataframe\">\n",
       "  <thead>\n",
       "    <tr style=\"text-align: right;\">\n",
       "      <th></th>\n",
       "      <th>sofifa_id</th>\n",
       "      <th>player_url</th>\n",
       "      <th>short_name</th>\n",
       "      <th>long_name</th>\n",
       "      <th>age</th>\n",
       "      <th>dob</th>\n",
       "      <th>height_cm</th>\n",
       "      <th>weight_kg</th>\n",
       "      <th>nationality</th>\n",
       "      <th>club</th>\n",
       "      <th>...</th>\n",
       "      <th>ldm</th>\n",
       "      <th>cdm</th>\n",
       "      <th>rdm</th>\n",
       "      <th>rwb</th>\n",
       "      <th>lb</th>\n",
       "      <th>lcb</th>\n",
       "      <th>cb</th>\n",
       "      <th>rcb</th>\n",
       "      <th>rb</th>\n",
       "      <th>year</th>\n",
       "    </tr>\n",
       "  </thead>\n",
       "  <tbody>\n",
       "    <tr>\n",
       "      <th>0</th>\n",
       "      <td>158023</td>\n",
       "      <td>https://sofifa.com/player/158023/lionel-messi/...</td>\n",
       "      <td>L. Messi</td>\n",
       "      <td>Lionel Andrés Messi Cuccittini</td>\n",
       "      <td>27</td>\n",
       "      <td>1987-06-24</td>\n",
       "      <td>169</td>\n",
       "      <td>67</td>\n",
       "      <td>Argentina</td>\n",
       "      <td>FC Barcelona</td>\n",
       "      <td>...</td>\n",
       "      <td>62+3</td>\n",
       "      <td>62+3</td>\n",
       "      <td>62+3</td>\n",
       "      <td>62+3</td>\n",
       "      <td>54+3</td>\n",
       "      <td>45+3</td>\n",
       "      <td>45+3</td>\n",
       "      <td>45+3</td>\n",
       "      <td>54+3</td>\n",
       "      <td>2015</td>\n",
       "    </tr>\n",
       "    <tr>\n",
       "      <th>1</th>\n",
       "      <td>20801</td>\n",
       "      <td>https://sofifa.com/player/20801/c-ronaldo-dos-...</td>\n",
       "      <td>Cristiano Ronaldo</td>\n",
       "      <td>Cristiano Ronaldo dos Santos Aveiro</td>\n",
       "      <td>29</td>\n",
       "      <td>1985-02-05</td>\n",
       "      <td>185</td>\n",
       "      <td>80</td>\n",
       "      <td>Portugal</td>\n",
       "      <td>Real Madrid</td>\n",
       "      <td>...</td>\n",
       "      <td>63+3</td>\n",
       "      <td>63+3</td>\n",
       "      <td>63+3</td>\n",
       "      <td>63+3</td>\n",
       "      <td>57+3</td>\n",
       "      <td>52+3</td>\n",
       "      <td>52+3</td>\n",
       "      <td>52+3</td>\n",
       "      <td>57+3</td>\n",
       "      <td>2015</td>\n",
       "    </tr>\n",
       "    <tr>\n",
       "      <th>2</th>\n",
       "      <td>9014</td>\n",
       "      <td>https://sofifa.com/player/9014/arjen-robben/15...</td>\n",
       "      <td>A. Robben</td>\n",
       "      <td>Arjen Robben</td>\n",
       "      <td>30</td>\n",
       "      <td>1984-01-23</td>\n",
       "      <td>180</td>\n",
       "      <td>80</td>\n",
       "      <td>Netherlands</td>\n",
       "      <td>FC Bayern München</td>\n",
       "      <td>...</td>\n",
       "      <td>64+3</td>\n",
       "      <td>64+3</td>\n",
       "      <td>64+3</td>\n",
       "      <td>64+3</td>\n",
       "      <td>55+3</td>\n",
       "      <td>46+3</td>\n",
       "      <td>46+3</td>\n",
       "      <td>46+3</td>\n",
       "      <td>55+3</td>\n",
       "      <td>2015</td>\n",
       "    </tr>\n",
       "    <tr>\n",
       "      <th>3</th>\n",
       "      <td>41236</td>\n",
       "      <td>https://sofifa.com/player/41236/zlatan-ibrahim...</td>\n",
       "      <td>Z. Ibrahimović</td>\n",
       "      <td>Zlatan Ibrahimović</td>\n",
       "      <td>32</td>\n",
       "      <td>1981-10-03</td>\n",
       "      <td>195</td>\n",
       "      <td>95</td>\n",
       "      <td>Sweden</td>\n",
       "      <td>Paris Saint-Germain</td>\n",
       "      <td>...</td>\n",
       "      <td>65+3</td>\n",
       "      <td>65+3</td>\n",
       "      <td>65+3</td>\n",
       "      <td>61+3</td>\n",
       "      <td>56+3</td>\n",
       "      <td>55+3</td>\n",
       "      <td>55+3</td>\n",
       "      <td>55+3</td>\n",
       "      <td>56+3</td>\n",
       "      <td>2015</td>\n",
       "    </tr>\n",
       "  </tbody>\n",
       "</table>\n",
       "<p>4 rows × 105 columns</p>\n",
       "</div>"
      ],
      "text/plain": [
       "   sofifa_id                                         player_url  \\\n",
       "0     158023  https://sofifa.com/player/158023/lionel-messi/...   \n",
       "1      20801  https://sofifa.com/player/20801/c-ronaldo-dos-...   \n",
       "2       9014  https://sofifa.com/player/9014/arjen-robben/15...   \n",
       "3      41236  https://sofifa.com/player/41236/zlatan-ibrahim...   \n",
       "\n",
       "          short_name                            long_name  age         dob  \\\n",
       "0           L. Messi       Lionel Andrés Messi Cuccittini   27  1987-06-24   \n",
       "1  Cristiano Ronaldo  Cristiano Ronaldo dos Santos Aveiro   29  1985-02-05   \n",
       "2          A. Robben                         Arjen Robben   30  1984-01-23   \n",
       "3     Z. Ibrahimović                   Zlatan Ibrahimović   32  1981-10-03   \n",
       "\n",
       "   height_cm  weight_kg  nationality                 club  ...   ldm   cdm  \\\n",
       "0        169         67    Argentina         FC Barcelona  ...  62+3  62+3   \n",
       "1        185         80     Portugal          Real Madrid  ...  63+3  63+3   \n",
       "2        180         80  Netherlands    FC Bayern München  ...  64+3  64+3   \n",
       "3        195         95       Sweden  Paris Saint-Germain  ...  65+3  65+3   \n",
       "\n",
       "    rdm   rwb    lb   lcb    cb   rcb    rb  year  \n",
       "0  62+3  62+3  54+3  45+3  45+3  45+3  54+3  2015  \n",
       "1  63+3  63+3  57+3  52+3  52+3  52+3  57+3  2015  \n",
       "2  64+3  64+3  55+3  46+3  46+3  46+3  55+3  2015  \n",
       "3  65+3  61+3  56+3  55+3  55+3  55+3  56+3  2015  \n",
       "\n",
       "[4 rows x 105 columns]"
      ]
     },
     "execution_count": 5,
     "metadata": {},
     "output_type": "execute_result"
    }
   ],
   "source": [
    "#sample data set\n",
    "players.head(4)"
   ]
  },
  {
   "cell_type": "code",
   "execution_count": 6,
   "metadata": {},
   "outputs": [],
   "source": [
    "#created a unique column by conactinating name and DOB\n",
    "players[\"playerid\"] = players[\"short_name\"] + players[\"dob\"]"
   ]
  },
  {
   "cell_type": "code",
   "execution_count": 7,
   "metadata": {},
   "outputs": [],
   "source": [
    "players2 = players[['year','club',\n",
    "                    'overall','potential','value_eur','wage_eur',\n",
    "                    'international_reputation','pace','shooting', \n",
    "                    'passing', 'dribbling','defending']]"
   ]
  },
  {
   "cell_type": "code",
   "execution_count": 8,
   "metadata": {},
   "outputs": [
    {
     "data": {
      "text/html": [
       "<div>\n",
       "<style scoped>\n",
       "    .dataframe tbody tr th:only-of-type {\n",
       "        vertical-align: middle;\n",
       "    }\n",
       "\n",
       "    .dataframe tbody tr th {\n",
       "        vertical-align: top;\n",
       "    }\n",
       "\n",
       "    .dataframe thead th {\n",
       "        text-align: right;\n",
       "    }\n",
       "</style>\n",
       "<table border=\"1\" class=\"dataframe\">\n",
       "  <thead>\n",
       "    <tr style=\"text-align: right;\">\n",
       "      <th></th>\n",
       "      <th>year</th>\n",
       "      <th>overall</th>\n",
       "      <th>potential</th>\n",
       "      <th>value_eur</th>\n",
       "      <th>wage_eur</th>\n",
       "      <th>international_reputation</th>\n",
       "      <th>pace</th>\n",
       "      <th>shooting</th>\n",
       "      <th>passing</th>\n",
       "      <th>dribbling</th>\n",
       "      <th>defending</th>\n",
       "    </tr>\n",
       "  </thead>\n",
       "  <tbody>\n",
       "    <tr>\n",
       "      <th>count</th>\n",
       "      <td>100995.000000</td>\n",
       "      <td>100995.000000</td>\n",
       "      <td>100995.000000</td>\n",
       "      <td>1.009950e+05</td>\n",
       "      <td>100995.000000</td>\n",
       "      <td>100995.000000</td>\n",
       "      <td>89748.000000</td>\n",
       "      <td>89748.000000</td>\n",
       "      <td>89748.000000</td>\n",
       "      <td>89748.000000</td>\n",
       "      <td>89748.00000</td>\n",
       "    </tr>\n",
       "    <tr>\n",
       "      <th>mean</th>\n",
       "      <td>2017.615427</td>\n",
       "      <td>65.814308</td>\n",
       "      <td>70.723254</td>\n",
       "      <td>1.890161e+06</td>\n",
       "      <td>9116.688945</td>\n",
       "      <td>1.118986</td>\n",
       "      <td>68.046430</td>\n",
       "      <td>52.237833</td>\n",
       "      <td>56.872220</td>\n",
       "      <td>61.936233</td>\n",
       "      <td>50.96615</td>\n",
       "    </tr>\n",
       "    <tr>\n",
       "      <th>std</th>\n",
       "      <td>1.699390</td>\n",
       "      <td>7.104778</td>\n",
       "      <td>6.321098</td>\n",
       "      <td>4.820973e+06</td>\n",
       "      <td>20897.285342</td>\n",
       "      <td>0.398290</td>\n",
       "      <td>11.184736</td>\n",
       "      <td>13.928667</td>\n",
       "      <td>10.688205</td>\n",
       "      <td>10.587017</td>\n",
       "      <td>16.87465</td>\n",
       "    </tr>\n",
       "    <tr>\n",
       "      <th>min</th>\n",
       "      <td>2015.000000</td>\n",
       "      <td>40.000000</td>\n",
       "      <td>40.000000</td>\n",
       "      <td>0.000000e+00</td>\n",
       "      <td>0.000000</td>\n",
       "      <td>1.000000</td>\n",
       "      <td>21.000000</td>\n",
       "      <td>14.000000</td>\n",
       "      <td>20.000000</td>\n",
       "      <td>22.000000</td>\n",
       "      <td>14.00000</td>\n",
       "    </tr>\n",
       "    <tr>\n",
       "      <th>25%</th>\n",
       "      <td>2016.000000</td>\n",
       "      <td>61.000000</td>\n",
       "      <td>66.000000</td>\n",
       "      <td>1.400000e+05</td>\n",
       "      <td>1000.000000</td>\n",
       "      <td>1.000000</td>\n",
       "      <td>62.000000</td>\n",
       "      <td>42.000000</td>\n",
       "      <td>50.000000</td>\n",
       "      <td>56.000000</td>\n",
       "      <td>35.00000</td>\n",
       "    </tr>\n",
       "    <tr>\n",
       "      <th>50%</th>\n",
       "      <td>2018.000000</td>\n",
       "      <td>66.000000</td>\n",
       "      <td>70.000000</td>\n",
       "      <td>5.250000e+05</td>\n",
       "      <td>2000.000000</td>\n",
       "      <td>1.000000</td>\n",
       "      <td>69.000000</td>\n",
       "      <td>54.000000</td>\n",
       "      <td>58.000000</td>\n",
       "      <td>63.000000</td>\n",
       "      <td>55.00000</td>\n",
       "    </tr>\n",
       "    <tr>\n",
       "      <th>75%</th>\n",
       "      <td>2019.000000</td>\n",
       "      <td>70.000000</td>\n",
       "      <td>75.000000</td>\n",
       "      <td>1.300000e+06</td>\n",
       "      <td>8000.000000</td>\n",
       "      <td>1.000000</td>\n",
       "      <td>76.000000</td>\n",
       "      <td>63.000000</td>\n",
       "      <td>64.000000</td>\n",
       "      <td>69.000000</td>\n",
       "      <td>65.00000</td>\n",
       "    </tr>\n",
       "    <tr>\n",
       "      <th>max</th>\n",
       "      <td>2020.000000</td>\n",
       "      <td>94.000000</td>\n",
       "      <td>95.000000</td>\n",
       "      <td>1.230000e+08</td>\n",
       "      <td>565000.000000</td>\n",
       "      <td>5.000000</td>\n",
       "      <td>97.000000</td>\n",
       "      <td>93.000000</td>\n",
       "      <td>93.000000</td>\n",
       "      <td>96.000000</td>\n",
       "      <td>91.00000</td>\n",
       "    </tr>\n",
       "  </tbody>\n",
       "</table>\n",
       "</div>"
      ],
      "text/plain": [
       "                year        overall      potential     value_eur  \\\n",
       "count  100995.000000  100995.000000  100995.000000  1.009950e+05   \n",
       "mean     2017.615427      65.814308      70.723254  1.890161e+06   \n",
       "std         1.699390       7.104778       6.321098  4.820973e+06   \n",
       "min      2015.000000      40.000000      40.000000  0.000000e+00   \n",
       "25%      2016.000000      61.000000      66.000000  1.400000e+05   \n",
       "50%      2018.000000      66.000000      70.000000  5.250000e+05   \n",
       "75%      2019.000000      70.000000      75.000000  1.300000e+06   \n",
       "max      2020.000000      94.000000      95.000000  1.230000e+08   \n",
       "\n",
       "            wage_eur  international_reputation          pace      shooting  \\\n",
       "count  100995.000000             100995.000000  89748.000000  89748.000000   \n",
       "mean     9116.688945                  1.118986     68.046430     52.237833   \n",
       "std     20897.285342                  0.398290     11.184736     13.928667   \n",
       "min         0.000000                  1.000000     21.000000     14.000000   \n",
       "25%      1000.000000                  1.000000     62.000000     42.000000   \n",
       "50%      2000.000000                  1.000000     69.000000     54.000000   \n",
       "75%      8000.000000                  1.000000     76.000000     63.000000   \n",
       "max    565000.000000                  5.000000     97.000000     93.000000   \n",
       "\n",
       "            passing     dribbling    defending  \n",
       "count  89748.000000  89748.000000  89748.00000  \n",
       "mean      56.872220     61.936233     50.96615  \n",
       "std       10.688205     10.587017     16.87465  \n",
       "min       20.000000     22.000000     14.00000  \n",
       "25%       50.000000     56.000000     35.00000  \n",
       "50%       58.000000     63.000000     55.00000  \n",
       "75%       64.000000     69.000000     65.00000  \n",
       "max       93.000000     96.000000     91.00000  "
      ]
     },
     "execution_count": 8,
     "metadata": {},
     "output_type": "execute_result"
    }
   ],
   "source": [
    "players2.describe()"
   ]
  },
  {
   "cell_type": "markdown",
   "metadata": {},
   "source": [
    "Descriptive stats of the key selected featues ;ike overall, potential, pace, shooting etc"
   ]
  },
  {
   "cell_type": "code",
   "execution_count": 9,
   "metadata": {},
   "outputs": [
    {
     "data": {
      "image/png": "[encoded data removed]",
      "text/plain": [
       "<Figure size 576x288 with 1 Axes>"
      ]
     },
     "metadata": {
      "needs_background": "light"
     },
     "output_type": "display_data"
    }
   ],
   "source": [
    "plt.figure(figsize=(8, 4))\n",
    "sns.distplot(players2['overall'], color='magenta', bins=50, hist_kws={'alpha': 0.4});"
   ]
  },
  {
   "cell_type": "markdown",
   "metadata": {},
   "source": [
    "Distribution of \"overall performance\" of the players is normally distributed and so this can be used as output variable when predicting growth of a player based on the team. Mean , Median are almost nearly same ."
   ]
  },
  {
   "cell_type": "code",
   "execution_count": 10,
   "metadata": {},
   "outputs": [
    {
     "data": {
      "text/plain": [
       "[dtype('float64'), dtype('int64'), dtype('O')]"
      ]
     },
     "execution_count": 10,
     "metadata": {},
     "output_type": "execute_result"
    }
   ],
   "source": [
    "list(set(players2.dtypes.tolist()))"
   ]
  },
  {
   "cell_type": "markdown",
   "metadata": {},
   "source": [
    "We have object, integer and floats dataypes in the data"
   ]
  },
  {
   "cell_type": "code",
   "execution_count": 11,
   "metadata": {},
   "outputs": [
    {
     "data": {
      "text/plain": [
       "array([[<matplotlib.axes._subplots.AxesSubplot object at 0x0000019D4868D860>,\n",
       "        <matplotlib.axes._subplots.AxesSubplot object at 0x0000019D48803828>,\n",
       "        <matplotlib.axes._subplots.AxesSubplot object at 0x0000019D4DBB5DA0>],\n",
       "       [<matplotlib.axes._subplots.AxesSubplot object at 0x0000019D4DBF2390>,\n",
       "        <matplotlib.axes._subplots.AxesSubplot object at 0x0000019D4DC21940>,\n",
       "        <matplotlib.axes._subplots.AxesSubplot object at 0x0000019D4DC54EF0>],\n",
       "       [<matplotlib.axes._subplots.AxesSubplot object at 0x0000019D4DC934E0>,\n",
       "        <matplotlib.axes._subplots.AxesSubplot object at 0x0000019D4DCC4AC8>,\n",
       "        <matplotlib.axes._subplots.AxesSubplot object at 0x0000019D4DCC4B00>],\n",
       "       [<matplotlib.axes._subplots.AxesSubplot object at 0x0000019D4DD32630>,\n",
       "        <matplotlib.axes._subplots.AxesSubplot object at 0x0000019D4DD66BE0>,\n",
       "        <matplotlib.axes._subplots.AxesSubplot object at 0x0000019D4DDA51D0>]],\n",
       "      dtype=object)"
      ]
     },
     "execution_count": 11,
     "metadata": {},
     "output_type": "execute_result"
    },
    {
     "data": {
      "image/png": "[encoded data removed]",
      "text/plain": [
       "<Figure size 1152x1440 with 12 Axes>"
      ]
     },
     "metadata": {
      "needs_background": "light"
     },
     "output_type": "display_data"
    }
   ],
   "source": [
    "players2.hist(figsize=(16, 20), bins=50, xlabelsize=8, ylabelsize=8)"
   ]
  },
  {
   "cell_type": "markdown",
   "metadata": {},
   "source": [
    "Defending is Bimodal, while over all is normally distributed ,As Overall is combination of all other charecteristics"
   ]
  },
  {
   "cell_type": "code",
   "execution_count": 12,
   "metadata": {},
   "outputs": [
    {
     "data": {
      "image/png": "[encoded data removed]",
      "text/plain": [
       "<Figure size 900x180 with 5 Axes>"
      ]
     },
     "metadata": {
      "needs_background": "light"
     },
     "output_type": "display_data"
    },
    {
     "data": {
      "image/png": "[encoded data removed]",
      "text/plain": [
       "<Figure size 900x180 with 5 Axes>"
      ]
     },
     "metadata": {
      "needs_background": "light"
     },
     "output_type": "display_data"
    },
    {
     "data": {
      "image/png": "[encoded data removed]",
      "text/plain": [
       "<Figure size 360x180 with 2 Axes>"
      ]
     },
     "metadata": {
      "needs_background": "light"
     },
     "output_type": "display_data"
    }
   ],
   "source": [
    "for i in range(0, len(players2.columns), 5):\n",
    "    sns.pairplot(data=players2,\n",
    "                x_vars=players2.columns[i:i+5],\n",
    "                y_vars=['overall'])"
   ]
  },
  {
   "cell_type": "markdown",
   "metadata": {},
   "source": [
    "When we see the realtion of overall with other charecteristics like pace, shooting, passing etc, There is no straight linear realtion.\n",
    "Means we have players with all kinsds of skills "
   ]
  },
  {
   "cell_type": "code",
   "execution_count": 13,
   "metadata": {},
   "outputs": [],
   "source": [
    "top_ten_countries = players['nationality'].value_counts().head(10).index.values\n",
    "data = players.loc[players['nationality'].isin(top_ten_countries), :]"
   ]
  },
  {
   "cell_type": "code",
   "execution_count": 14,
   "metadata": {},
   "outputs": [
    {
     "data": {
      "image/png": "[encoded data removed]",
      "text/plain": [
       "<Figure size 792x576 with 1 Axes>"
      ]
     },
     "metadata": {},
     "output_type": "display_data"
    }
   ],
   "source": [
    "sns.set(style=\"white\")\n",
    "plt.figure(figsize=(11, 8))\n",
    "p = sns.boxplot(x = 'nationality', y = 'overall', data = data)"
   ]
  },
  {
   "cell_type": "markdown",
   "metadata": {},
   "source": [
    "Brazil have the highest potential followed closely by Spain, Italy and Argentina"
   ]
  },
  {
   "cell_type": "code",
   "execution_count": 15,
   "metadata": {},
   "outputs": [
    {
     "data": {
      "image/png": "[encoded data removed]",
      "text/plain": [
       "<Figure size 792x576 with 1 Axes>"
      ]
     },
     "metadata": {},
     "output_type": "display_data"
    }
   ],
   "source": [
    "top_ten_clubs = players['club'].value_counts().head(10).index.values\n",
    "data1 = players.loc[players['club'].isin(top_ten_clubs), :]\n",
    "\n",
    "sns.set(style=\"white\")\n",
    "plt.figure(figsize=(11, 8))\n",
    "p = sns.boxplot(x = 'club', y = 'overall', data = data1)"
   ]
  },
  {
   "cell_type": "markdown",
   "metadata": {},
   "source": [
    "Club Chealsea have more overall and then clubs Arsenal and Machseter City, The club with minimal overall strangth is southhampton."
   ]
  },
  {
   "cell_type": "code",
   "execution_count": 16,
   "metadata": {},
   "outputs": [
    {
     "data": {
      "image/png": "[encoded data removed]",
      "text/plain": [
       "<Figure size 432x288 with 1 Axes>"
      ]
     },
     "metadata": {},
     "output_type": "display_data"
    }
   ],
   "source": [
    "## age factor on the potential\n",
    "\n",
    "p = sns.lineplot(x = 'age', y = 'overall', ci = None, data = players, label = 'overall', c='green')\n",
    "p = sns.lineplot(x = 'age', y = 'potential', ci = None, data = players, label = 'potential', c='magenta')\n",
    "p = plt.ylabel('Potential vs Overall')\n",
    "p = plt.legend(loc = 1)"
   ]
  },
  {
   "cell_type": "markdown",
   "metadata": {},
   "source": [
    "Younger players overall is much lesser than their potential , over the age and experience overall matches the potential\n",
    "as there are very few players with age more than 40"
   ]
  },
  {
   "cell_type": "code",
   "execution_count": 17,
   "metadata": {},
   "outputs": [
    {
     "data": {
      "image/png": "[encoded data removed]",
      "text/plain": [
       "<Figure size 864x720 with 2 Axes>"
      ]
     },
     "metadata": {},
     "output_type": "display_data"
    }
   ],
   "source": [
    "corr = players2.corr() # We already examined SalePrice correlations\n",
    "pal = sns.dark_palette(\"lightblue\", as_cmap=True)\n",
    "plt.figure(figsize=(12, 10))\n",
    "sns.heatmap(corr[(corr >= 0.5) | (corr <= -0.4)], \n",
    "            cmap=pal, vmax=1.0, vmin=-1.0, linewidths=0.1,\n",
    "            annot=True, annot_kws={\"size\": 8}, square=True, );"
   ]
  },
  {
   "cell_type": "markdown",
   "metadata": {},
   "source": [
    "__Most of the contribution of overall performance is from passing and dribbling__"
   ]
  },
  {
   "cell_type": "code",
   "execution_count": 18,
   "metadata": {},
   "outputs": [],
   "source": [
    "clubs = players2.groupby(['year','club']).agg('mean')"
   ]
  },
  {
   "cell_type": "code",
   "execution_count": 19,
   "metadata": {},
   "outputs": [
    {
     "data": {
      "text/html": [
       "<div>\n",
       "<style scoped>\n",
       "    .dataframe tbody tr th:only-of-type {\n",
       "        vertical-align: middle;\n",
       "    }\n",
       "\n",
       "    .dataframe tbody tr th {\n",
       "        vertical-align: top;\n",
       "    }\n",
       "\n",
       "    .dataframe thead th {\n",
       "        text-align: right;\n",
       "    }\n",
       "</style>\n",
       "<table border=\"1\" class=\"dataframe\">\n",
       "  <thead>\n",
       "    <tr style=\"text-align: right;\">\n",
       "      <th></th>\n",
       "      <th></th>\n",
       "      <th>overall</th>\n",
       "      <th>potential</th>\n",
       "      <th>value_eur</th>\n",
       "      <th>wage_eur</th>\n",
       "      <th>international_reputation</th>\n",
       "      <th>pace</th>\n",
       "      <th>shooting</th>\n",
       "      <th>passing</th>\n",
       "      <th>dribbling</th>\n",
       "      <th>defending</th>\n",
       "    </tr>\n",
       "    <tr>\n",
       "      <th>year</th>\n",
       "      <th>club</th>\n",
       "      <th></th>\n",
       "      <th></th>\n",
       "      <th></th>\n",
       "      <th></th>\n",
       "      <th></th>\n",
       "      <th></th>\n",
       "      <th></th>\n",
       "      <th></th>\n",
       "      <th></th>\n",
       "      <th></th>\n",
       "    </tr>\n",
       "  </thead>\n",
       "  <tbody>\n",
       "    <tr>\n",
       "      <th rowspan=\"5\" valign=\"top\">2015</th>\n",
       "      <th>1. FC Heidenheim 1846</th>\n",
       "      <td>61.958333</td>\n",
       "      <td>65.916667</td>\n",
       "      <td>0.0</td>\n",
       "      <td>0.0</td>\n",
       "      <td>1.000000</td>\n",
       "      <td>67.952381</td>\n",
       "      <td>50.904762</td>\n",
       "      <td>51.904762</td>\n",
       "      <td>58.380952</td>\n",
       "      <td>49.285714</td>\n",
       "    </tr>\n",
       "    <tr>\n",
       "      <th>1. FC Kaiserslautern</th>\n",
       "      <td>64.750000</td>\n",
       "      <td>71.214286</td>\n",
       "      <td>0.0</td>\n",
       "      <td>0.0</td>\n",
       "      <td>1.071429</td>\n",
       "      <td>69.880000</td>\n",
       "      <td>53.760000</td>\n",
       "      <td>56.240000</td>\n",
       "      <td>62.240000</td>\n",
       "      <td>48.120000</td>\n",
       "    </tr>\n",
       "    <tr>\n",
       "      <th>1. FC Köln</th>\n",
       "      <td>68.964286</td>\n",
       "      <td>74.285714</td>\n",
       "      <td>0.0</td>\n",
       "      <td>0.0</td>\n",
       "      <td>1.178571</td>\n",
       "      <td>72.416667</td>\n",
       "      <td>56.375000</td>\n",
       "      <td>58.625000</td>\n",
       "      <td>66.083333</td>\n",
       "      <td>52.750000</td>\n",
       "    </tr>\n",
       "    <tr>\n",
       "      <th>1. FC Nürnberg</th>\n",
       "      <td>66.178571</td>\n",
       "      <td>73.142857</td>\n",
       "      <td>0.0</td>\n",
       "      <td>0.0</td>\n",
       "      <td>1.178571</td>\n",
       "      <td>72.000000</td>\n",
       "      <td>52.333333</td>\n",
       "      <td>58.416667</td>\n",
       "      <td>63.875000</td>\n",
       "      <td>49.375000</td>\n",
       "    </tr>\n",
       "    <tr>\n",
       "      <th>1. FC Union Berlin</th>\n",
       "      <td>63.714286</td>\n",
       "      <td>69.178571</td>\n",
       "      <td>0.0</td>\n",
       "      <td>0.0</td>\n",
       "      <td>1.071429</td>\n",
       "      <td>70.000000</td>\n",
       "      <td>53.440000</td>\n",
       "      <td>55.680000</td>\n",
       "      <td>61.600000</td>\n",
       "      <td>45.320000</td>\n",
       "    </tr>\n",
       "  </tbody>\n",
       "</table>\n",
       "</div>"
      ],
      "text/plain": [
       "                              overall  potential  value_eur  wage_eur  \\\n",
       "year club                                                               \n",
       "2015 1. FC Heidenheim 1846  61.958333  65.916667        0.0       0.0   \n",
       "     1. FC Kaiserslautern   64.750000  71.214286        0.0       0.0   \n",
       "     1. FC Köln             68.964286  74.285714        0.0       0.0   \n",
       "     1. FC Nürnberg         66.178571  73.142857        0.0       0.0   \n",
       "     1. FC Union Berlin     63.714286  69.178571        0.0       0.0   \n",
       "\n",
       "                            international_reputation       pace   shooting  \\\n",
       "year club                                                                    \n",
       "2015 1. FC Heidenheim 1846                  1.000000  67.952381  50.904762   \n",
       "     1. FC Kaiserslautern                   1.071429  69.880000  53.760000   \n",
       "     1. FC Köln                             1.178571  72.416667  56.375000   \n",
       "     1. FC Nürnberg                         1.178571  72.000000  52.333333   \n",
       "     1. FC Union Berlin                     1.071429  70.000000  53.440000   \n",
       "\n",
       "                              passing  dribbling  defending  \n",
       "year club                                                    \n",
       "2015 1. FC Heidenheim 1846  51.904762  58.380952  49.285714  \n",
       "     1. FC Kaiserslautern   56.240000  62.240000  48.120000  \n",
       "     1. FC Köln             58.625000  66.083333  52.750000  \n",
       "     1. FC Nürnberg         58.416667  63.875000  49.375000  \n",
       "     1. FC Union Berlin     55.680000  61.600000  45.320000  "
      ]
     },
     "execution_count": 19,
     "metadata": {},
     "output_type": "execute_result"
    }
   ],
   "source": [
    "clubs.head()"
   ]
  },
  {
   "cell_type": "code",
   "execution_count": 20,
   "metadata": {},
   "outputs": [],
   "source": [
    "clubs2 = clubs.reset_index()"
   ]
  },
  {
   "cell_type": "code",
   "execution_count": 21,
   "metadata": {},
   "outputs": [],
   "source": [
    "clubs3 = clubs2[['year','club','overall']]"
   ]
  },
  {
   "cell_type": "code",
   "execution_count": 22,
   "metadata": {},
   "outputs": [
    {
     "data": {
      "text/html": [
       "<div>\n",
       "<style scoped>\n",
       "    .dataframe tbody tr th:only-of-type {\n",
       "        vertical-align: middle;\n",
       "    }\n",
       "\n",
       "    .dataframe tbody tr th {\n",
       "        vertical-align: top;\n",
       "    }\n",
       "\n",
       "    .dataframe thead th {\n",
       "        text-align: right;\n",
       "    }\n",
       "</style>\n",
       "<table border=\"1\" class=\"dataframe\">\n",
       "  <thead>\n",
       "    <tr style=\"text-align: right;\">\n",
       "      <th></th>\n",
       "      <th>year</th>\n",
       "      <th>club</th>\n",
       "      <th>overall</th>\n",
       "    </tr>\n",
       "  </thead>\n",
       "  <tbody>\n",
       "    <tr>\n",
       "      <th>0</th>\n",
       "      <td>2015</td>\n",
       "      <td>1. FC Heidenheim 1846</td>\n",
       "      <td>61.958333</td>\n",
       "    </tr>\n",
       "    <tr>\n",
       "      <th>1</th>\n",
       "      <td>2015</td>\n",
       "      <td>1. FC Kaiserslautern</td>\n",
       "      <td>64.750000</td>\n",
       "    </tr>\n",
       "    <tr>\n",
       "      <th>2</th>\n",
       "      <td>2015</td>\n",
       "      <td>1. FC Köln</td>\n",
       "      <td>68.964286</td>\n",
       "    </tr>\n",
       "    <tr>\n",
       "      <th>3</th>\n",
       "      <td>2015</td>\n",
       "      <td>1. FC Nürnberg</td>\n",
       "      <td>66.178571</td>\n",
       "    </tr>\n",
       "    <tr>\n",
       "      <th>4</th>\n",
       "      <td>2015</td>\n",
       "      <td>1. FC Union Berlin</td>\n",
       "      <td>63.714286</td>\n",
       "    </tr>\n",
       "  </tbody>\n",
       "</table>\n",
       "</div>"
      ],
      "text/plain": [
       "   year                   club    overall\n",
       "0  2015  1. FC Heidenheim 1846  61.958333\n",
       "1  2015   1. FC Kaiserslautern  64.750000\n",
       "2  2015             1. FC Köln  68.964286\n",
       "3  2015         1. FC Nürnberg  66.178571\n",
       "4  2015     1. FC Union Berlin  63.714286"
      ]
     },
     "execution_count": 22,
     "metadata": {},
     "output_type": "execute_result"
    }
   ],
   "source": [
    "clubs3.head()"
   ]
  },
  {
   "cell_type": "code",
   "execution_count": 23,
   "metadata": {},
   "outputs": [],
   "source": [
    "clubs4= pd.pivot_table(clubs3, values = 'overall', index=['club'], columns = 'year').reset_index()"
   ]
  },
  {
   "cell_type": "code",
   "execution_count": 24,
   "metadata": {},
   "outputs": [],
   "source": [
    "clubs5 = clubs4.dropna()"
   ]
  },
  {
   "cell_type": "code",
   "execution_count": 25,
   "metadata": {},
   "outputs": [
    {
     "data": {
      "text/html": [
       "<div>\n",
       "<style scoped>\n",
       "    .dataframe tbody tr th:only-of-type {\n",
       "        vertical-align: middle;\n",
       "    }\n",
       "\n",
       "    .dataframe tbody tr th {\n",
       "        vertical-align: top;\n",
       "    }\n",
       "\n",
       "    .dataframe thead th {\n",
       "        text-align: right;\n",
       "    }\n",
       "</style>\n",
       "<table border=\"1\" class=\"dataframe\">\n",
       "  <thead>\n",
       "    <tr style=\"text-align: right;\">\n",
       "      <th>year</th>\n",
       "      <th>club</th>\n",
       "      <th>2015</th>\n",
       "      <th>2016</th>\n",
       "      <th>2017</th>\n",
       "      <th>2018</th>\n",
       "      <th>2019</th>\n",
       "      <th>2020</th>\n",
       "    </tr>\n",
       "  </thead>\n",
       "  <tbody>\n",
       "    <tr>\n",
       "      <th>1</th>\n",
       "      <td>1. FC Heidenheim 1846</td>\n",
       "      <td>61.958333</td>\n",
       "      <td>63.892857</td>\n",
       "      <td>65.360000</td>\n",
       "      <td>66.538462</td>\n",
       "      <td>65.571429</td>\n",
       "      <td>65.793103</td>\n",
       "    </tr>\n",
       "    <tr>\n",
       "      <th>2</th>\n",
       "      <td>1. FC Kaiserslautern</td>\n",
       "      <td>64.750000</td>\n",
       "      <td>66.346154</td>\n",
       "      <td>66.518519</td>\n",
       "      <td>64.827586</td>\n",
       "      <td>63.720000</td>\n",
       "      <td>63.750000</td>\n",
       "    </tr>\n",
       "    <tr>\n",
       "      <th>3</th>\n",
       "      <td>1. FC Köln</td>\n",
       "      <td>68.964286</td>\n",
       "      <td>71.791667</td>\n",
       "      <td>71.680000</td>\n",
       "      <td>72.285714</td>\n",
       "      <td>70.821429</td>\n",
       "      <td>71.612903</td>\n",
       "    </tr>\n",
       "    <tr>\n",
       "      <th>5</th>\n",
       "      <td>1. FC Nürnberg</td>\n",
       "      <td>66.178571</td>\n",
       "      <td>67.384615</td>\n",
       "      <td>67.500000</td>\n",
       "      <td>67.607143</td>\n",
       "      <td>68.714286</td>\n",
       "      <td>68.800000</td>\n",
       "    </tr>\n",
       "    <tr>\n",
       "      <th>6</th>\n",
       "      <td>1. FC Union Berlin</td>\n",
       "      <td>63.714286</td>\n",
       "      <td>65.769231</td>\n",
       "      <td>67.642857</td>\n",
       "      <td>68.111111</td>\n",
       "      <td>68.142857</td>\n",
       "      <td>68.787879</td>\n",
       "    </tr>\n",
       "  </tbody>\n",
       "</table>\n",
       "</div>"
      ],
      "text/plain": [
       "year                   club       2015       2016       2017       2018  \\\n",
       "1     1. FC Heidenheim 1846  61.958333  63.892857  65.360000  66.538462   \n",
       "2      1. FC Kaiserslautern  64.750000  66.346154  66.518519  64.827586   \n",
       "3                1. FC Köln  68.964286  71.791667  71.680000  72.285714   \n",
       "5            1. FC Nürnberg  66.178571  67.384615  67.500000  67.607143   \n",
       "6        1. FC Union Berlin  63.714286  65.769231  67.642857  68.111111   \n",
       "\n",
       "year       2019       2020  \n",
       "1     65.571429  65.793103  \n",
       "2     63.720000  63.750000  \n",
       "3     70.821429  71.612903  \n",
       "5     68.714286  68.800000  \n",
       "6     68.142857  68.787879  "
      ]
     },
     "execution_count": 25,
     "metadata": {},
     "output_type": "execute_result"
    }
   ],
   "source": [
    "clubs5.head()"
   ]
  },
  {
   "cell_type": "code",
   "execution_count": 26,
   "metadata": {},
   "outputs": [],
   "source": [
    "clubs5['g16'] = (clubs5[2016]-clubs5[2015])*100/clubs5[2015]\n",
    "clubs5['g17'] = (clubs5[2017]-clubs5[2016])*100/clubs5[2016]\n",
    "clubs5['g18'] = (clubs5[2018]-clubs5[2017])*100/clubs5[2017]\n",
    "clubs5['g19'] = (clubs5[2019]-clubs5[2018])*100/clubs5[2018]\n",
    "clubs5['g20'] = (clubs5[2020]-clubs5[2019])*100/clubs5[2019]"
   ]
  },
  {
   "cell_type": "code",
   "execution_count": 27,
   "metadata": {},
   "outputs": [
    {
     "data": {
      "text/html": [
       "<div>\n",
       "<style scoped>\n",
       "    .dataframe tbody tr th:only-of-type {\n",
       "        vertical-align: middle;\n",
       "    }\n",
       "\n",
       "    .dataframe tbody tr th {\n",
       "        vertical-align: top;\n",
       "    }\n",
       "\n",
       "    .dataframe thead th {\n",
       "        text-align: right;\n",
       "    }\n",
       "</style>\n",
       "<table border=\"1\" class=\"dataframe\">\n",
       "  <thead>\n",
       "    <tr style=\"text-align: right;\">\n",
       "      <th>year</th>\n",
       "      <th>club</th>\n",
       "      <th>2015</th>\n",
       "      <th>2016</th>\n",
       "      <th>2017</th>\n",
       "      <th>2018</th>\n",
       "      <th>2019</th>\n",
       "      <th>2020</th>\n",
       "      <th>g16</th>\n",
       "      <th>g17</th>\n",
       "      <th>g18</th>\n",
       "      <th>g19</th>\n",
       "      <th>g20</th>\n",
       "    </tr>\n",
       "  </thead>\n",
       "  <tbody>\n",
       "    <tr>\n",
       "      <th>545</th>\n",
       "      <td>Melbourne Victory</td>\n",
       "      <td>61.904762</td>\n",
       "      <td>63.950000</td>\n",
       "      <td>65.000000</td>\n",
       "      <td>64.888889</td>\n",
       "      <td>64.700000</td>\n",
       "      <td>62.157895</td>\n",
       "      <td>3.303846</td>\n",
       "      <td>1.641908</td>\n",
       "      <td>-0.170940</td>\n",
       "      <td>-0.291096</td>\n",
       "      <td>-3.929065</td>\n",
       "    </tr>\n",
       "    <tr>\n",
       "      <th>217</th>\n",
       "      <td>Clube Sport Marítimo</td>\n",
       "      <td>64.933333</td>\n",
       "      <td>67.214286</td>\n",
       "      <td>68.600000</td>\n",
       "      <td>67.833333</td>\n",
       "      <td>69.833333</td>\n",
       "      <td>68.137931</td>\n",
       "      <td>3.512760</td>\n",
       "      <td>2.061637</td>\n",
       "      <td>-1.117590</td>\n",
       "      <td>2.948403</td>\n",
       "      <td>-2.427784</td>\n",
       "    </tr>\n",
       "    <tr>\n",
       "      <th>658</th>\n",
       "      <td>RSC Anderlecht</td>\n",
       "      <td>67.962963</td>\n",
       "      <td>71.640000</td>\n",
       "      <td>70.814815</td>\n",
       "      <td>73.000000</td>\n",
       "      <td>70.678571</td>\n",
       "      <td>71.642857</td>\n",
       "      <td>5.410354</td>\n",
       "      <td>-1.151850</td>\n",
       "      <td>3.085774</td>\n",
       "      <td>-3.180039</td>\n",
       "      <td>1.364325</td>\n",
       "    </tr>\n",
       "    <tr>\n",
       "      <th>400</th>\n",
       "      <td>Getafe CF</td>\n",
       "      <td>68.653846</td>\n",
       "      <td>71.034483</td>\n",
       "      <td>70.259259</td>\n",
       "      <td>70.645161</td>\n",
       "      <td>72.964286</td>\n",
       "      <td>74.500000</td>\n",
       "      <td>3.467594</td>\n",
       "      <td>-1.091334</td>\n",
       "      <td>0.549254</td>\n",
       "      <td>3.282779</td>\n",
       "      <td>2.104748</td>\n",
       "    </tr>\n",
       "  </tbody>\n",
       "</table>\n",
       "</div>"
      ],
      "text/plain": [
       "year                  club       2015       2016       2017       2018  \\\n",
       "545      Melbourne Victory  61.904762  63.950000  65.000000  64.888889   \n",
       "217   Clube Sport Marítimo  64.933333  67.214286  68.600000  67.833333   \n",
       "658         RSC Anderlecht  67.962963  71.640000  70.814815  73.000000   \n",
       "400              Getafe CF  68.653846  71.034483  70.259259  70.645161   \n",
       "\n",
       "year       2019       2020       g16       g17       g18       g19       g20  \n",
       "545   64.700000  62.157895  3.303846  1.641908 -0.170940 -0.291096 -3.929065  \n",
       "217   69.833333  68.137931  3.512760  2.061637 -1.117590  2.948403 -2.427784  \n",
       "658   70.678571  71.642857  5.410354 -1.151850  3.085774 -3.180039  1.364325  \n",
       "400   72.964286  74.500000  3.467594 -1.091334  0.549254  3.282779  2.104748  "
      ]
     },
     "execution_count": 27,
     "metadata": {},
     "output_type": "execute_result"
    }
   ],
   "source": [
    "clubs5.sample(4)"
   ]
  },
  {
   "cell_type": "code",
   "execution_count": 28,
   "metadata": {},
   "outputs": [
    {
     "data": {
      "text/html": [
       "<div>\n",
       "<style scoped>\n",
       "    .dataframe tbody tr th:only-of-type {\n",
       "        vertical-align: middle;\n",
       "    }\n",
       "\n",
       "    .dataframe tbody tr th {\n",
       "        vertical-align: top;\n",
       "    }\n",
       "\n",
       "    .dataframe thead th {\n",
       "        text-align: right;\n",
       "    }\n",
       "</style>\n",
       "<table border=\"1\" class=\"dataframe\">\n",
       "  <thead>\n",
       "    <tr style=\"text-align: right;\">\n",
       "      <th>year</th>\n",
       "      <th>club</th>\n",
       "      <th>g16</th>\n",
       "      <th>g17</th>\n",
       "      <th>g18</th>\n",
       "      <th>g19</th>\n",
       "      <th>g20</th>\n",
       "    </tr>\n",
       "  </thead>\n",
       "  <tbody>\n",
       "    <tr>\n",
       "      <th>315</th>\n",
       "      <td>FC Girondins de Bordeaux</td>\n",
       "      <td>3.690868</td>\n",
       "      <td>0.943121</td>\n",
       "      <td>1.203266</td>\n",
       "      <td>-1.616328</td>\n",
       "      <td>-0.231900</td>\n",
       "    </tr>\n",
       "    <tr>\n",
       "      <th>341</th>\n",
       "      <td>FC Seoul</td>\n",
       "      <td>2.563756</td>\n",
       "      <td>2.045770</td>\n",
       "      <td>-0.107933</td>\n",
       "      <td>-0.432199</td>\n",
       "      <td>-2.387412</td>\n",
       "    </tr>\n",
       "    <tr>\n",
       "      <th>666</th>\n",
       "      <td>Rayo Vallecano</td>\n",
       "      <td>4.089993</td>\n",
       "      <td>-0.249875</td>\n",
       "      <td>-1.658489</td>\n",
       "      <td>-0.493374</td>\n",
       "      <td>-1.324935</td>\n",
       "    </tr>\n",
       "    <tr>\n",
       "      <th>698</th>\n",
       "      <td>SC Heerenveen</td>\n",
       "      <td>4.617605</td>\n",
       "      <td>0.150000</td>\n",
       "      <td>2.783325</td>\n",
       "      <td>-2.044121</td>\n",
       "      <td>-3.499820</td>\n",
       "    </tr>\n",
       "  </tbody>\n",
       "</table>\n",
       "</div>"
      ],
      "text/plain": [
       "year                      club       g16       g17       g18       g19  \\\n",
       "315   FC Girondins de Bordeaux  3.690868  0.943121  1.203266 -1.616328   \n",
       "341                   FC Seoul  2.563756  2.045770 -0.107933 -0.432199   \n",
       "666             Rayo Vallecano  4.089993 -0.249875 -1.658489 -0.493374   \n",
       "698              SC Heerenveen  4.617605  0.150000  2.783325 -2.044121   \n",
       "\n",
       "year       g20  \n",
       "315  -0.231900  \n",
       "341  -2.387412  \n",
       "666  -1.324935  \n",
       "698  -3.499820  "
      ]
     },
     "execution_count": 28,
     "metadata": {},
     "output_type": "execute_result"
    }
   ],
   "source": [
    "clubs6 = clubs5[['club','g16','g17','g18','g19','g20']]\n",
    "clubs6.sample(4)"
   ]
  },
  {
   "cell_type": "code",
   "execution_count": 29,
   "metadata": {},
   "outputs": [],
   "source": [
    "clubs7 = clubs6.melt(id_vars=['club'], var_name='yearly', value_name='growth')"
   ]
  },
  {
   "cell_type": "code",
   "execution_count": 30,
   "metadata": {},
   "outputs": [
    {
     "data": {
      "text/html": [
       "<div>\n",
       "<style scoped>\n",
       "    .dataframe tbody tr th:only-of-type {\n",
       "        vertical-align: middle;\n",
       "    }\n",
       "\n",
       "    .dataframe tbody tr th {\n",
       "        vertical-align: top;\n",
       "    }\n",
       "\n",
       "    .dataframe thead th {\n",
       "        text-align: right;\n",
       "    }\n",
       "</style>\n",
       "<table border=\"1\" class=\"dataframe\">\n",
       "  <thead>\n",
       "    <tr style=\"text-align: right;\">\n",
       "      <th></th>\n",
       "      <th>club</th>\n",
       "      <th>yearly</th>\n",
       "      <th>growth</th>\n",
       "    </tr>\n",
       "  </thead>\n",
       "  <tbody>\n",
       "    <tr>\n",
       "      <th>0</th>\n",
       "      <td>1. FC Heidenheim 1846</td>\n",
       "      <td>g16</td>\n",
       "      <td>3.122298</td>\n",
       "    </tr>\n",
       "    <tr>\n",
       "      <th>1</th>\n",
       "      <td>1. FC Kaiserslautern</td>\n",
       "      <td>g16</td>\n",
       "      <td>2.465102</td>\n",
       "    </tr>\n",
       "    <tr>\n",
       "      <th>2</th>\n",
       "      <td>1. FC Köln</td>\n",
       "      <td>g16</td>\n",
       "      <td>4.099776</td>\n",
       "    </tr>\n",
       "    <tr>\n",
       "      <th>3</th>\n",
       "      <td>1. FC Nürnberg</td>\n",
       "      <td>g16</td>\n",
       "      <td>1.822409</td>\n",
       "    </tr>\n",
       "    <tr>\n",
       "      <th>4</th>\n",
       "      <td>1. FC Union Berlin</td>\n",
       "      <td>g16</td>\n",
       "      <td>3.225250</td>\n",
       "    </tr>\n",
       "  </tbody>\n",
       "</table>\n",
       "</div>"
      ],
      "text/plain": [
       "                    club yearly    growth\n",
       "0  1. FC Heidenheim 1846    g16  3.122298\n",
       "1   1. FC Kaiserslautern    g16  2.465102\n",
       "2             1. FC Köln    g16  4.099776\n",
       "3         1. FC Nürnberg    g16  1.822409\n",
       "4     1. FC Union Berlin    g16  3.225250"
      ]
     },
     "execution_count": 30,
     "metadata": {},
     "output_type": "execute_result"
    }
   ],
   "source": [
    "clubs7.head()"
   ]
  },
  {
   "cell_type": "code",
   "execution_count": 31,
   "metadata": {},
   "outputs": [
    {
     "data": {
      "text/plain": [
       "<matplotlib.axes._subplots.AxesSubplot at 0x19d54f2ae80>"
      ]
     },
     "execution_count": 31,
     "metadata": {},
     "output_type": "execute_result"
    },
    {
     "data": {
      "image/png": "[encoded data removed]",
      "text/plain": [
       "<Figure size 432x288 with 1 Axes>"
      ]
     },
     "metadata": {},
     "output_type": "display_data"
    }
   ],
   "source": [
    "sns.lineplot(data = clubs7, x= 'yearly', y='growth' , color = 'blue')"
   ]
  },
  {
   "cell_type": "markdown",
   "metadata": {},
   "source": [
    "__We observe that the Year on Year Growth trends in players with respect to teams are falling__\n",
    "\n",
    "__we can term this as Negative grwoth of players over years__"
   ]
  },
  {
   "cell_type": "code",
   "execution_count": 32,
   "metadata": {},
   "outputs": [],
   "source": [
    "##To what extent and accuracy can we predict the growth of a player based on the team and league they are a part of?"
   ]
  },
  {
   "cell_type": "code",
   "execution_count": 33,
   "metadata": {},
   "outputs": [],
   "source": [
    "players3 = players[['year','age','playerid','club','overall']]\n",
    "top_ten_clubs = players3['club'].value_counts().head(10).index.values\n",
    "data1 = players3.loc[players3['club'].isin(top_ten_clubs), :]"
   ]
  },
  {
   "cell_type": "code",
   "execution_count": 34,
   "metadata": {},
   "outputs": [],
   "source": [
    "y= data1[['overall']]\n",
    "X= data1[['year','age','club']]"
   ]
  },
  {
   "cell_type": "code",
   "execution_count": 35,
   "metadata": {},
   "outputs": [],
   "source": [
    "X_train , X_test , y_train , y_test = train_test_split(X,y, test_size=0.2, random_state= 77)\n",
    "X = pd.concat((X_train , y_train) , axis=1)"
   ]
  },
  {
   "cell_type": "code",
   "execution_count": 36,
   "metadata": {},
   "outputs": [],
   "source": [
    "import statsmodels.formula.api as smf\n"
   ]
  },
  {
   "cell_type": "code",
   "execution_count": 37,
   "metadata": {},
   "outputs": [
    {
     "data": {
      "text/html": [
       "<table class=\"simpletable\">\n",
       "<caption>OLS Regression Results</caption>\n",
       "<tr>\n",
       "  <th>Dep. Variable:</th>         <td>overall</td>     <th>  R-squared:         </th> <td>   0.480</td> \n",
       "</tr>\n",
       "<tr>\n",
       "  <th>Model:</th>                   <td>OLS</td>       <th>  Adj. R-squared:    </th> <td>   0.477</td> \n",
       "</tr>\n",
       "<tr>\n",
       "  <th>Method:</th>             <td>Least Squares</td>  <th>  F-statistic:       </th> <td>   129.7</td> \n",
       "</tr>\n",
       "<tr>\n",
       "  <th>Date:</th>             <td>Sat, 15 Feb 2020</td> <th>  Prob (F-statistic):</th> <td>2.72e-210</td>\n",
       "</tr>\n",
       "<tr>\n",
       "  <th>Time:</th>                 <td>16:29:12</td>     <th>  Log-Likelihood:    </th> <td> -5069.2</td> \n",
       "</tr>\n",
       "<tr>\n",
       "  <th>No. Observations:</th>      <td>  1556</td>      <th>  AIC:               </th> <td>1.016e+04</td>\n",
       "</tr>\n",
       "<tr>\n",
       "  <th>Df Residuals:</th>          <td>  1544</td>      <th>  BIC:               </th> <td>1.023e+04</td>\n",
       "</tr>\n",
       "<tr>\n",
       "  <th>Df Model:</th>              <td>    11</td>      <th>                     </th>     <td> </td>    \n",
       "</tr>\n",
       "<tr>\n",
       "  <th>Covariance Type:</th>      <td>nonrobust</td>    <th>                     </th>     <td> </td>    \n",
       "</tr>\n",
       "</table>\n",
       "<table class=\"simpletable\">\n",
       "<tr>\n",
       "              <td></td>                 <th>coef</th>     <th>std err</th>      <th>t</th>      <th>P>|t|</th>  <th>[0.025</th>    <th>0.975]</th>  \n",
       "</tr>\n",
       "<tr>\n",
       "  <th>Intercept</th>                 <td> -996.3891</td> <td>  189.060</td> <td>   -5.270</td> <td> 0.000</td> <td>-1367.231</td> <td> -625.548</td>\n",
       "</tr>\n",
       "<tr>\n",
       "  <th>club[T.Chelsea]</th>           <td>    0.5246</td> <td>    0.707</td> <td>    0.742</td> <td> 0.458</td> <td>   -0.863</td> <td>    1.912</td>\n",
       "</tr>\n",
       "<tr>\n",
       "  <th>club[T.Crystal Palace]</th>    <td>   -5.8143</td> <td>    0.707</td> <td>   -8.222</td> <td> 0.000</td> <td>   -7.201</td> <td>   -4.427</td>\n",
       "</tr>\n",
       "<tr>\n",
       "  <th>club[T.Everton]</th>           <td>   -2.2857</td> <td>    0.708</td> <td>   -3.230</td> <td> 0.001</td> <td>   -3.674</td> <td>   -0.898</td>\n",
       "</tr>\n",
       "<tr>\n",
       "  <th>club[T.Lazio]</th>             <td>   -2.2586</td> <td>    0.722</td> <td>   -3.129</td> <td> 0.002</td> <td>   -3.675</td> <td>   -0.843</td>\n",
       "</tr>\n",
       "<tr>\n",
       "  <th>club[T.Leicester City]</th>    <td>   -4.8452</td> <td>    0.699</td> <td>   -6.932</td> <td> 0.000</td> <td>   -6.216</td> <td>   -3.474</td>\n",
       "</tr>\n",
       "<tr>\n",
       "  <th>club[T.Manchester City]</th>   <td>   -0.1377</td> <td>    0.704</td> <td>   -0.196</td> <td> 0.845</td> <td>   -1.519</td> <td>    1.243</td>\n",
       "</tr>\n",
       "<tr>\n",
       "  <th>club[T.Southampton]</th>       <td>   -3.6795</td> <td>    0.695</td> <td>   -5.291</td> <td> 0.000</td> <td>   -5.044</td> <td>   -2.315</td>\n",
       "</tr>\n",
       "<tr>\n",
       "  <th>club[T.Tottenham Hotspur]</th> <td>   -0.0049</td> <td>    0.714</td> <td>   -0.007</td> <td> 0.995</td> <td>   -1.405</td> <td>    1.396</td>\n",
       "</tr>\n",
       "<tr>\n",
       "  <th>club[T.West Ham United]</th>   <td>   -4.0495</td> <td>    0.720</td> <td>   -5.626</td> <td> 0.000</td> <td>   -5.461</td> <td>   -2.638</td>\n",
       "</tr>\n",
       "<tr>\n",
       "  <th>year</th>                      <td>    0.5169</td> <td>    0.094</td> <td>    5.516</td> <td> 0.000</td> <td>    0.333</td> <td>    0.701</td>\n",
       "</tr>\n",
       "<tr>\n",
       "  <th>age</th>                       <td>    1.1792</td> <td>    0.033</td> <td>   35.563</td> <td> 0.000</td> <td>    1.114</td> <td>    1.244</td>\n",
       "</tr>\n",
       "</table>\n",
       "<table class=\"simpletable\">\n",
       "<tr>\n",
       "  <th>Omnibus:</th>       <td>26.659</td> <th>  Durbin-Watson:     </th> <td>   2.033</td>\n",
       "</tr>\n",
       "<tr>\n",
       "  <th>Prob(Omnibus):</th> <td> 0.000</td> <th>  Jarque-Bera (JB):  </th> <td>  27.774</td>\n",
       "</tr>\n",
       "<tr>\n",
       "  <th>Skew:</th>          <td>-0.323</td> <th>  Prob(JB):          </th> <td>9.31e-07</td>\n",
       "</tr>\n",
       "<tr>\n",
       "  <th>Kurtosis:</th>      <td> 2.899</td> <th>  Cond. No.          </th> <td>2.38e+06</td>\n",
       "</tr>\n",
       "</table><br/><br/>Warnings:<br/>[1] Standard Errors assume that the covariance matrix of the errors is correctly specified.<br/>[2] The condition number is large, 2.38e+06. This might indicate that there are<br/>strong multicollinearity or other numerical problems."
      ],
      "text/plain": [
       "<class 'statsmodels.iolib.summary.Summary'>\n",
       "\"\"\"\n",
       "                            OLS Regression Results                            \n",
       "==============================================================================\n",
       "Dep. Variable:                overall   R-squared:                       0.480\n",
       "Model:                            OLS   Adj. R-squared:                  0.477\n",
       "Method:                 Least Squares   F-statistic:                     129.7\n",
       "Date:                Sat, 15 Feb 2020   Prob (F-statistic):          2.72e-210\n",
       "Time:                        16:29:12   Log-Likelihood:                -5069.2\n",
       "No. Observations:                1556   AIC:                         1.016e+04\n",
       "Df Residuals:                    1544   BIC:                         1.023e+04\n",
       "Df Model:                          11                                         \n",
       "Covariance Type:            nonrobust                                         \n",
       "=============================================================================================\n",
       "                                coef    std err          t      P>|t|      [0.025      0.975]\n",
       "---------------------------------------------------------------------------------------------\n",
       "Intercept                  -996.3891    189.060     -5.270      0.000   -1367.231    -625.548\n",
       "club[T.Chelsea]               0.5246      0.707      0.742      0.458      -0.863       1.912\n",
       "club[T.Crystal Palace]       -5.8143      0.707     -8.222      0.000      -7.201      -4.427\n",
       "club[T.Everton]              -2.2857      0.708     -3.230      0.001      -3.674      -0.898\n",
       "club[T.Lazio]                -2.2586      0.722     -3.129      0.002      -3.675      -0.843\n",
       "club[T.Leicester City]       -4.8452      0.699     -6.932      0.000      -6.216      -3.474\n",
       "club[T.Manchester City]      -0.1377      0.704     -0.196      0.845      -1.519       1.243\n",
       "club[T.Southampton]          -3.6795      0.695     -5.291      0.000      -5.044      -2.315\n",
       "club[T.Tottenham Hotspur]    -0.0049      0.714     -0.007      0.995      -1.405       1.396\n",
       "club[T.West Ham United]      -4.0495      0.720     -5.626      0.000      -5.461      -2.638\n",
       "year                          0.5169      0.094      5.516      0.000       0.333       0.701\n",
       "age                           1.1792      0.033     35.563      0.000       1.114       1.244\n",
       "==============================================================================\n",
       "Omnibus:                       26.659   Durbin-Watson:                   2.033\n",
       "Prob(Omnibus):                  0.000   Jarque-Bera (JB):               27.774\n",
       "Skew:                          -0.323   Prob(JB):                     9.31e-07\n",
       "Kurtosis:                       2.899   Cond. No.                     2.38e+06\n",
       "==============================================================================\n",
       "\n",
       "Warnings:\n",
       "[1] Standard Errors assume that the covariance matrix of the errors is correctly specified.\n",
       "[2] The condition number is large, 2.38e+06. This might indicate that there are\n",
       "strong multicollinearity or other numerical problems.\n",
       "\"\"\""
      ]
     },
     "execution_count": 37,
     "metadata": {},
     "output_type": "execute_result"
    }
   ],
   "source": [
    "model = smf.ols(formula='overall ~ year+age+club', data=X).fit()\n",
    "model.summary()"
   ]
  },
  {
   "cell_type": "markdown",
   "metadata": {},
   "source": [
    "When we study the model summary statitics , from p-value of each clubs coefficients , \n",
    "we can clearly see , the overall strrength does not have singnificant correlation or impact for the top performing clubs like Manchster City and Chelsea"
   ]
  },
  {
   "cell_type": "markdown",
   "metadata": {},
   "source": [
    "__Now we using the custom prepared dataset with growth as dependant variable__"
   ]
  },
  {
   "cell_type": "code",
   "execution_count": 38,
   "metadata": {},
   "outputs": [],
   "source": [
    "## Considering the prepared growth data only for the model\n",
    "top_ten_clubs = players3['club'].value_counts().head(10).index.values\n",
    "data2 = clubs7.loc[clubs7['club'].isin(top_ten_clubs), :]\n"
   ]
  },
  {
   "cell_type": "code",
   "execution_count": 39,
   "metadata": {},
   "outputs": [],
   "source": [
    "y= data2[['growth']]\n",
    "X= data2[['yearly','club']]"
   ]
  },
  {
   "cell_type": "code",
   "execution_count": 40,
   "metadata": {},
   "outputs": [],
   "source": [
    "X_train , X_test , y_train , y_test = train_test_split(X,y, test_size=0.2, random_state= 77)\n",
    "X = pd.concat((X_train , y_train) , axis=1)"
   ]
  },
  {
   "cell_type": "code",
   "execution_count": 41,
   "metadata": {},
   "outputs": [
    {
     "data": {
      "text/html": [
       "<table class=\"simpletable\">\n",
       "<caption>OLS Regression Results</caption>\n",
       "<tr>\n",
       "  <th>Dep. Variable:</th>         <td>growth</td>      <th>  R-squared:         </th> <td>   0.523</td>\n",
       "</tr>\n",
       "<tr>\n",
       "  <th>Model:</th>                   <td>OLS</td>       <th>  Adj. R-squared:    </th> <td>   0.284</td>\n",
       "</tr>\n",
       "<tr>\n",
       "  <th>Method:</th>             <td>Least Squares</td>  <th>  F-statistic:       </th> <td>   2.191</td>\n",
       "</tr>\n",
       "<tr>\n",
       "  <th>Date:</th>             <td>Sat, 15 Feb 2020</td> <th>  Prob (F-statistic):</th>  <td>0.0430</td> \n",
       "</tr>\n",
       "<tr>\n",
       "  <th>Time:</th>                 <td>16:29:12</td>     <th>  Log-Likelihood:    </th> <td> -67.510</td>\n",
       "</tr>\n",
       "<tr>\n",
       "  <th>No. Observations:</th>      <td>    40</td>      <th>  AIC:               </th> <td>   163.0</td>\n",
       "</tr>\n",
       "<tr>\n",
       "  <th>Df Residuals:</th>          <td>    26</td>      <th>  BIC:               </th> <td>   186.7</td>\n",
       "</tr>\n",
       "<tr>\n",
       "  <th>Df Model:</th>              <td>    13</td>      <th>                     </th>     <td> </td>   \n",
       "</tr>\n",
       "<tr>\n",
       "  <th>Covariance Type:</th>      <td>nonrobust</td>    <th>                     </th>     <td> </td>   \n",
       "</tr>\n",
       "</table>\n",
       "<table class=\"simpletable\">\n",
       "<tr>\n",
       "              <td></td>                 <th>coef</th>     <th>std err</th>      <th>t</th>      <th>P>|t|</th>  <th>[0.025</th>    <th>0.975]</th>  \n",
       "</tr>\n",
       "<tr>\n",
       "  <th>Intercept</th>                 <td>    1.9297</td> <td>    0.950</td> <td>    2.032</td> <td> 0.052</td> <td>   -0.022</td> <td>    3.882</td>\n",
       "</tr>\n",
       "<tr>\n",
       "  <th>yearly[T.g17]</th>             <td>   -2.1442</td> <td>    0.849</td> <td>   -2.526</td> <td> 0.018</td> <td>   -3.889</td> <td>   -0.400</td>\n",
       "</tr>\n",
       "<tr>\n",
       "  <th>yearly[T.g18]</th>             <td>   -2.5096</td> <td>    0.778</td> <td>   -3.226</td> <td> 0.003</td> <td>   -4.109</td> <td>   -0.910</td>\n",
       "</tr>\n",
       "<tr>\n",
       "  <th>yearly[T.g19]</th>             <td>   -2.2151</td> <td>    0.849</td> <td>   -2.611</td> <td> 0.015</td> <td>   -3.959</td> <td>   -0.471</td>\n",
       "</tr>\n",
       "<tr>\n",
       "  <th>yearly[T.g20]</th>             <td>   -2.1781</td> <td>    0.809</td> <td>   -2.693</td> <td> 0.012</td> <td>   -3.840</td> <td>   -0.516</td>\n",
       "</tr>\n",
       "<tr>\n",
       "  <th>club[T.Chelsea]</th>           <td>    0.9075</td> <td>    1.097</td> <td>    0.827</td> <td> 0.416</td> <td>   -1.347</td> <td>    3.162</td>\n",
       "</tr>\n",
       "<tr>\n",
       "  <th>club[T.Crystal Palace]</th>    <td>   -0.3702</td> <td>    1.165</td> <td>   -0.318</td> <td> 0.753</td> <td>   -2.765</td> <td>    2.025</td>\n",
       "</tr>\n",
       "<tr>\n",
       "  <th>club[T.Everton]</th>           <td>    1.0224</td> <td>    1.169</td> <td>    0.875</td> <td> 0.390</td> <td>   -1.380</td> <td>    3.425</td>\n",
       "</tr>\n",
       "<tr>\n",
       "  <th>club[T.Lazio]</th>             <td>    0.1872</td> <td>    1.168</td> <td>    0.160</td> <td> 0.874</td> <td>   -2.213</td> <td>    2.587</td>\n",
       "</tr>\n",
       "<tr>\n",
       "  <th>club[T.Leicester City]</th>    <td>    2.4255</td> <td>    1.253</td> <td>    1.936</td> <td> 0.064</td> <td>   -0.150</td> <td>    5.001</td>\n",
       "</tr>\n",
       "<tr>\n",
       "  <th>club[T.Manchester City]</th>   <td>    2.5441</td> <td>    1.276</td> <td>    1.993</td> <td> 0.057</td> <td>   -0.080</td> <td>    5.168</td>\n",
       "</tr>\n",
       "<tr>\n",
       "  <th>club[T.Southampton]</th>       <td>    0.8465</td> <td>    1.097</td> <td>    0.772</td> <td> 0.447</td> <td>   -1.408</td> <td>    3.101</td>\n",
       "</tr>\n",
       "<tr>\n",
       "  <th>club[T.Tottenham Hotspur]</th> <td>   -0.2607</td> <td>    1.277</td> <td>   -0.204</td> <td> 0.840</td> <td>   -2.886</td> <td>    2.365</td>\n",
       "</tr>\n",
       "<tr>\n",
       "  <th>club[T.West Ham United]</th>   <td>    0.8818</td> <td>    1.097</td> <td>    0.804</td> <td> 0.429</td> <td>   -1.373</td> <td>    3.136</td>\n",
       "</tr>\n",
       "</table>\n",
       "<table class=\"simpletable\">\n",
       "<tr>\n",
       "  <th>Omnibus:</th>       <td> 3.709</td> <th>  Durbin-Watson:     </th> <td>   1.717</td>\n",
       "</tr>\n",
       "<tr>\n",
       "  <th>Prob(Omnibus):</th> <td> 0.157</td> <th>  Jarque-Bera (JB):  </th> <td>   1.662</td>\n",
       "</tr>\n",
       "<tr>\n",
       "  <th>Skew:</th>          <td>-0.061</td> <th>  Prob(JB):          </th> <td>   0.436</td>\n",
       "</tr>\n",
       "<tr>\n",
       "  <th>Kurtosis:</th>      <td> 2.009</td> <th>  Cond. No.          </th> <td>    11.9</td>\n",
       "</tr>\n",
       "</table><br/><br/>Warnings:<br/>[1] Standard Errors assume that the covariance matrix of the errors is correctly specified."
      ],
      "text/plain": [
       "<class 'statsmodels.iolib.summary.Summary'>\n",
       "\"\"\"\n",
       "                            OLS Regression Results                            \n",
       "==============================================================================\n",
       "Dep. Variable:                 growth   R-squared:                       0.523\n",
       "Model:                            OLS   Adj. R-squared:                  0.284\n",
       "Method:                 Least Squares   F-statistic:                     2.191\n",
       "Date:                Sat, 15 Feb 2020   Prob (F-statistic):             0.0430\n",
       "Time:                        16:29:12   Log-Likelihood:                -67.510\n",
       "No. Observations:                  40   AIC:                             163.0\n",
       "Df Residuals:                      26   BIC:                             186.7\n",
       "Df Model:                          13                                         \n",
       "Covariance Type:            nonrobust                                         \n",
       "=============================================================================================\n",
       "                                coef    std err          t      P>|t|      [0.025      0.975]\n",
       "---------------------------------------------------------------------------------------------\n",
       "Intercept                     1.9297      0.950      2.032      0.052      -0.022       3.882\n",
       "yearly[T.g17]                -2.1442      0.849     -2.526      0.018      -3.889      -0.400\n",
       "yearly[T.g18]                -2.5096      0.778     -3.226      0.003      -4.109      -0.910\n",
       "yearly[T.g19]                -2.2151      0.849     -2.611      0.015      -3.959      -0.471\n",
       "yearly[T.g20]                -2.1781      0.809     -2.693      0.012      -3.840      -0.516\n",
       "club[T.Chelsea]               0.9075      1.097      0.827      0.416      -1.347       3.162\n",
       "club[T.Crystal Palace]       -0.3702      1.165     -0.318      0.753      -2.765       2.025\n",
       "club[T.Everton]               1.0224      1.169      0.875      0.390      -1.380       3.425\n",
       "club[T.Lazio]                 0.1872      1.168      0.160      0.874      -2.213       2.587\n",
       "club[T.Leicester City]        2.4255      1.253      1.936      0.064      -0.150       5.001\n",
       "club[T.Manchester City]       2.5441      1.276      1.993      0.057      -0.080       5.168\n",
       "club[T.Southampton]           0.8465      1.097      0.772      0.447      -1.408       3.101\n",
       "club[T.Tottenham Hotspur]    -0.2607      1.277     -0.204      0.840      -2.886       2.365\n",
       "club[T.West Ham United]       0.8818      1.097      0.804      0.429      -1.373       3.136\n",
       "==============================================================================\n",
       "Omnibus:                        3.709   Durbin-Watson:                   1.717\n",
       "Prob(Omnibus):                  0.157   Jarque-Bera (JB):                1.662\n",
       "Skew:                          -0.061   Prob(JB):                        0.436\n",
       "Kurtosis:                       2.009   Cond. No.                         11.9\n",
       "==============================================================================\n",
       "\n",
       "Warnings:\n",
       "[1] Standard Errors assume that the covariance matrix of the errors is correctly specified.\n",
       "\"\"\""
      ]
     },
     "execution_count": 41,
     "metadata": {},
     "output_type": "execute_result"
    }
   ],
   "source": [
    "import statsmodels.formula.api as smf\n",
    "model = smf.ols(formula='growth ~ yearly+club', data=X).fit()\n",
    "model.summary()"
   ]
  },
  {
   "cell_type": "markdown",
   "metadata": {},
   "source": [
    "can we predict the growth of a player based on the team ?\n",
    "\n",
    "No , we can not as the p-value of correlation among club and growth is much higher than value of significance"
   ]
  },
  {
   "cell_type": "markdown",
   "metadata": {},
   "source": [
    "### Which club/league is the most suitable for a young player below the age of 25 to play?"
   ]
  },
  {
   "cell_type": "code",
   "execution_count": 42,
   "metadata": {},
   "outputs": [],
   "source": [
    "youth = players[players.age < 25]"
   ]
  },
  {
   "cell_type": "code",
   "execution_count": 43,
   "metadata": {},
   "outputs": [
    {
     "data": {
      "text/plain": [
       "(49365, 106)"
      ]
     },
     "execution_count": 43,
     "metadata": {},
     "output_type": "execute_result"
    }
   ],
   "source": [
    "youth.shape"
   ]
  },
  {
   "cell_type": "code",
   "execution_count": 44,
   "metadata": {},
   "outputs": [],
   "source": [
    "youth1 = youth[['club','overall','potential']]"
   ]
  },
  {
   "cell_type": "code",
   "execution_count": 45,
   "metadata": {},
   "outputs": [],
   "source": [
    "youth1['gap'] = youth1['potential']-youth1['overall']"
   ]
  },
  {
   "cell_type": "code",
   "execution_count": 46,
   "metadata": {},
   "outputs": [
    {
     "data": {
      "text/html": [
       "<div>\n",
       "<style scoped>\n",
       "    .dataframe tbody tr th:only-of-type {\n",
       "        vertical-align: middle;\n",
       "    }\n",
       "\n",
       "    .dataframe tbody tr th {\n",
       "        vertical-align: top;\n",
       "    }\n",
       "\n",
       "    .dataframe thead th {\n",
       "        text-align: right;\n",
       "    }\n",
       "</style>\n",
       "<table border=\"1\" class=\"dataframe\">\n",
       "  <thead>\n",
       "    <tr style=\"text-align: right;\">\n",
       "      <th></th>\n",
       "      <th>club</th>\n",
       "      <th>overall</th>\n",
       "      <th>potential</th>\n",
       "      <th>gap</th>\n",
       "    </tr>\n",
       "  </thead>\n",
       "  <tbody>\n",
       "    <tr>\n",
       "      <th>6</th>\n",
       "      <td>Chelsea</td>\n",
       "      <td>88</td>\n",
       "      <td>90</td>\n",
       "      <td>2</td>\n",
       "    </tr>\n",
       "    <tr>\n",
       "      <th>11</th>\n",
       "      <td>Real Madrid</td>\n",
       "      <td>87</td>\n",
       "      <td>91</td>\n",
       "      <td>4</td>\n",
       "    </tr>\n",
       "    <tr>\n",
       "      <th>18</th>\n",
       "      <td>Real Madrid</td>\n",
       "      <td>86</td>\n",
       "      <td>92</td>\n",
       "      <td>6</td>\n",
       "    </tr>\n",
       "    <tr>\n",
       "      <th>19</th>\n",
       "      <td>FC Barcelona</td>\n",
       "      <td>86</td>\n",
       "      <td>91</td>\n",
       "      <td>5</td>\n",
       "    </tr>\n",
       "    <tr>\n",
       "      <th>20</th>\n",
       "      <td>Chelsea</td>\n",
       "      <td>86</td>\n",
       "      <td>90</td>\n",
       "      <td>4</td>\n",
       "    </tr>\n",
       "  </tbody>\n",
       "</table>\n",
       "</div>"
      ],
      "text/plain": [
       "            club  overall  potential  gap\n",
       "6        Chelsea       88         90    2\n",
       "11   Real Madrid       87         91    4\n",
       "18   Real Madrid       86         92    6\n",
       "19  FC Barcelona       86         91    5\n",
       "20       Chelsea       86         90    4"
      ]
     },
     "execution_count": 46,
     "metadata": {},
     "output_type": "execute_result"
    }
   ],
   "source": [
    "youth1.head()"
   ]
  },
  {
   "cell_type": "code",
   "execution_count": 47,
   "metadata": {},
   "outputs": [],
   "source": [
    "youth_club = youth1[['club','gap','overall','potential']].groupby(['club']).agg(['mean','std'])['gap']"
   ]
  },
  {
   "cell_type": "code",
   "execution_count": 48,
   "metadata": {},
   "outputs": [],
   "source": [
    "bestyouthclubs = youth_club.sort_values(['mean','std']).head(10)"
   ]
  },
  {
   "cell_type": "code",
   "execution_count": 49,
   "metadata": {},
   "outputs": [
    {
     "data": {
      "text/html": [
       "<div>\n",
       "<style scoped>\n",
       "    .dataframe tbody tr th:only-of-type {\n",
       "        vertical-align: middle;\n",
       "    }\n",
       "\n",
       "    .dataframe tbody tr th {\n",
       "        vertical-align: top;\n",
       "    }\n",
       "\n",
       "    .dataframe thead th {\n",
       "        text-align: right;\n",
       "    }\n",
       "</style>\n",
       "<table border=\"1\" class=\"dataframe\">\n",
       "  <thead>\n",
       "    <tr style=\"text-align: right;\">\n",
       "      <th></th>\n",
       "      <th>mean</th>\n",
       "      <th>std</th>\n",
       "    </tr>\n",
       "    <tr>\n",
       "      <th>club</th>\n",
       "      <th></th>\n",
       "      <th></th>\n",
       "    </tr>\n",
       "  </thead>\n",
       "  <tbody>\n",
       "    <tr>\n",
       "      <th>Coritiba</th>\n",
       "      <td>0.300000</td>\n",
       "      <td>0.948683</td>\n",
       "    </tr>\n",
       "    <tr>\n",
       "      <th>Botafogo</th>\n",
       "      <td>0.333333</td>\n",
       "      <td>1.000000</td>\n",
       "    </tr>\n",
       "    <tr>\n",
       "      <th>Joinville</th>\n",
       "      <td>0.400000</td>\n",
       "      <td>0.894427</td>\n",
       "    </tr>\n",
       "    <tr>\n",
       "      <th>Palmeiras</th>\n",
       "      <td>0.625000</td>\n",
       "      <td>0.916125</td>\n",
       "    </tr>\n",
       "    <tr>\n",
       "      <th>Santa Cruz</th>\n",
       "      <td>0.666667</td>\n",
       "      <td>0.816497</td>\n",
       "    </tr>\n",
       "    <tr>\n",
       "      <th>Internacional</th>\n",
       "      <td>0.714286</td>\n",
       "      <td>1.253566</td>\n",
       "    </tr>\n",
       "    <tr>\n",
       "      <th>Cruzeiro</th>\n",
       "      <td>0.750000</td>\n",
       "      <td>1.388730</td>\n",
       "    </tr>\n",
       "    <tr>\n",
       "      <th>Chapecoense</th>\n",
       "      <td>0.800000</td>\n",
       "      <td>1.095445</td>\n",
       "    </tr>\n",
       "    <tr>\n",
       "      <th>Atlético Mineiro</th>\n",
       "      <td>0.818182</td>\n",
       "      <td>1.401298</td>\n",
       "    </tr>\n",
       "    <tr>\n",
       "      <th>Fluminense</th>\n",
       "      <td>0.888889</td>\n",
       "      <td>1.833333</td>\n",
       "    </tr>\n",
       "  </tbody>\n",
       "</table>\n",
       "</div>"
      ],
      "text/plain": [
       "                      mean       std\n",
       "club                                \n",
       "Coritiba          0.300000  0.948683\n",
       "Botafogo          0.333333  1.000000\n",
       "Joinville         0.400000  0.894427\n",
       "Palmeiras         0.625000  0.916125\n",
       "Santa Cruz        0.666667  0.816497\n",
       "Internacional     0.714286  1.253566\n",
       "Cruzeiro          0.750000  1.388730\n",
       "Chapecoense       0.800000  1.095445\n",
       "Atlético Mineiro  0.818182  1.401298\n",
       "Fluminense        0.888889  1.833333"
      ]
     },
     "execution_count": 49,
     "metadata": {},
     "output_type": "execute_result"
    }
   ],
   "source": [
    "bestyouthclubs"
   ]
  },
  {
   "cell_type": "markdown",
   "metadata": {},
   "source": []
  },
  {
   "cell_type": "markdown",
   "metadata": {},
   "source": [
    "__clubs is the most suitable for a young player below the age of 25 is Corbita__"
   ]
  },
  {
   "cell_type": "code",
   "execution_count": 50,
   "metadata": {},
   "outputs": [
    {
     "data": {
      "text/html": [
       "<div>\n",
       "<style scoped>\n",
       "    .dataframe tbody tr th:only-of-type {\n",
       "        vertical-align: middle;\n",
       "    }\n",
       "\n",
       "    .dataframe tbody tr th {\n",
       "        vertical-align: top;\n",
       "    }\n",
       "\n",
       "    .dataframe thead th {\n",
       "        text-align: right;\n",
       "    }\n",
       "</style>\n",
       "<table border=\"1\" class=\"dataframe\">\n",
       "  <thead>\n",
       "    <tr style=\"text-align: right;\">\n",
       "      <th></th>\n",
       "      <th>club</th>\n",
       "      <th>overall</th>\n",
       "      <th>potential</th>\n",
       "      <th>gap</th>\n",
       "    </tr>\n",
       "  </thead>\n",
       "  <tbody>\n",
       "    <tr>\n",
       "      <th>1232</th>\n",
       "      <td>Coritiba</td>\n",
       "      <td>77</td>\n",
       "      <td>77</td>\n",
       "      <td>0</td>\n",
       "    </tr>\n",
       "    <tr>\n",
       "      <th>1775</th>\n",
       "      <td>Cruzeiro</td>\n",
       "      <td>75</td>\n",
       "      <td>78</td>\n",
       "      <td>3</td>\n",
       "    </tr>\n",
       "    <tr>\n",
       "      <th>2063</th>\n",
       "      <td>Coritiba</td>\n",
       "      <td>75</td>\n",
       "      <td>75</td>\n",
       "      <td>0</td>\n",
       "    </tr>\n",
       "    <tr>\n",
       "      <th>2067</th>\n",
       "      <td>Palmeiras</td>\n",
       "      <td>75</td>\n",
       "      <td>75</td>\n",
       "      <td>0</td>\n",
       "    </tr>\n",
       "    <tr>\n",
       "      <th>2074</th>\n",
       "      <td>Joinville</td>\n",
       "      <td>75</td>\n",
       "      <td>75</td>\n",
       "      <td>0</td>\n",
       "    </tr>\n",
       "  </tbody>\n",
       "</table>\n",
       "</div>"
      ],
      "text/plain": [
       "           club  overall  potential  gap\n",
       "1232   Coritiba       77         77    0\n",
       "1775   Cruzeiro       75         78    3\n",
       "2063   Coritiba       75         75    0\n",
       "2067  Palmeiras       75         75    0\n",
       "2074  Joinville       75         75    0"
      ]
     },
     "execution_count": 50,
     "metadata": {},
     "output_type": "execute_result"
    }
   ],
   "source": [
    "goodclubs = bestyouthclubs.reset_index()['club']\n",
    "youth2 = youth1.loc[youth1['club'].isin(goodclubs), :]\n",
    "youth2.head()"
   ]
  },
  {
   "cell_type": "code",
   "execution_count": 51,
   "metadata": {},
   "outputs": [
    {
     "data": {
      "image/png": "[encoded data removed]",
      "text/plain": [
       "<Figure size 792x576 with 1 Axes>"
      ]
     },
     "metadata": {},
     "output_type": "display_data"
    }
   ],
   "source": [
    "sns.set(style=\"white\")\n",
    "plt.figure(figsize=(11, 8))\n",
    "p = sns.boxplot(x = 'club', y = 'overall', data = youth2)"
   ]
  },
  {
   "cell_type": "code",
   "execution_count": 52,
   "metadata": {},
   "outputs": [
    {
     "data": {
      "text/html": [
       "<div>\n",
       "<style scoped>\n",
       "    .dataframe tbody tr th:only-of-type {\n",
       "        vertical-align: middle;\n",
       "    }\n",
       "\n",
       "    .dataframe tbody tr th {\n",
       "        vertical-align: top;\n",
       "    }\n",
       "\n",
       "    .dataframe thead th {\n",
       "        text-align: right;\n",
       "    }\n",
       "</style>\n",
       "<table border=\"1\" class=\"dataframe\">\n",
       "  <thead>\n",
       "    <tr style=\"text-align: right;\">\n",
       "      <th></th>\n",
       "      <th>club</th>\n",
       "      <th>avg_overall_change</th>\n",
       "    </tr>\n",
       "  </thead>\n",
       "  <tbody>\n",
       "    <tr>\n",
       "      <th>32</th>\n",
       "      <td>Ajax</td>\n",
       "      <td>0.672199</td>\n",
       "    </tr>\n",
       "    <tr>\n",
       "      <th>498</th>\n",
       "      <td>Manchester United</td>\n",
       "      <td>0.628042</td>\n",
       "    </tr>\n",
       "    <tr>\n",
       "      <th>111</th>\n",
       "      <td>Borussia Mönchengladbach</td>\n",
       "      <td>0.611398</td>\n",
       "    </tr>\n",
       "    <tr>\n",
       "      <th>645</th>\n",
       "      <td>SC Freiburg</td>\n",
       "      <td>0.601741</td>\n",
       "    </tr>\n",
       "    <tr>\n",
       "      <th>303</th>\n",
       "      <td>FC Nantes</td>\n",
       "      <td>0.596213</td>\n",
       "    </tr>\n",
       "    <tr>\n",
       "      <th>278</th>\n",
       "      <td>FC Bayern München</td>\n",
       "      <td>0.595022</td>\n",
       "    </tr>\n",
       "    <tr>\n",
       "      <th>723</th>\n",
       "      <td>Sporting CP</td>\n",
       "      <td>0.593590</td>\n",
       "    </tr>\n",
       "    <tr>\n",
       "      <th>634</th>\n",
       "      <td>Roma</td>\n",
       "      <td>0.579548</td>\n",
       "    </tr>\n",
       "    <tr>\n",
       "      <th>673</th>\n",
       "      <td>SV Werder Bremen</td>\n",
       "      <td>0.570319</td>\n",
       "    </tr>\n",
       "    <tr>\n",
       "      <th>399</th>\n",
       "      <td>Hellas Verona</td>\n",
       "      <td>0.563850</td>\n",
       "    </tr>\n",
       "    <tr>\n",
       "      <th>313</th>\n",
       "      <td>FC Schalke 04</td>\n",
       "      <td>0.561552</td>\n",
       "    </tr>\n",
       "    <tr>\n",
       "      <th>23</th>\n",
       "      <td>AZ Alkmaar</td>\n",
       "      <td>0.549934</td>\n",
       "    </tr>\n",
       "    <tr>\n",
       "      <th>342</th>\n",
       "      <td>Feyenoord</td>\n",
       "      <td>0.547650</td>\n",
       "    </tr>\n",
       "    <tr>\n",
       "      <th>318</th>\n",
       "      <td>FC St. Pauli</td>\n",
       "      <td>0.545621</td>\n",
       "    </tr>\n",
       "    <tr>\n",
       "      <th>439</th>\n",
       "      <td>KAA Gent</td>\n",
       "      <td>0.544353</td>\n",
       "    </tr>\n",
       "  </tbody>\n",
       "</table>\n",
       "</div>"
      ],
      "text/plain": [
       "                         club  avg_overall_change\n",
       "32                       Ajax            0.672199\n",
       "498         Manchester United            0.628042\n",
       "111  Borussia Mönchengladbach            0.611398\n",
       "645               SC Freiburg            0.601741\n",
       "303                 FC Nantes            0.596213\n",
       "278         FC Bayern München            0.595022\n",
       "723               Sporting CP            0.593590\n",
       "634                      Roma            0.579548\n",
       "673          SV Werder Bremen            0.570319\n",
       "399             Hellas Verona            0.563850\n",
       "313             FC Schalke 04            0.561552\n",
       "23                 AZ Alkmaar            0.549934\n",
       "342                 Feyenoord            0.547650\n",
       "318              FC St. Pauli            0.545621\n",
       "439                  KAA Gent            0.544353"
      ]
     },
     "execution_count": 52,
     "metadata": {},
     "output_type": "execute_result"
    }
   ],
   "source": [
    "import pandasql\n",
    "from scipy import stats\n",
    "\n",
    "q31 = pandasql.sqldf(\"select club, short_name, year, (potential - overall) - last_value(potential - overall) OVER (PARTITION BY club, short_name ORDER BY year ASC ROWS BETWEEN CURRENT ROW AND 1 FOLLOWING) as overall_change from players where age < 25\", globals())\n",
    "q32 = q31[np.abs(stats.zscore(q31[\"overall_change\"])) < 2]\n",
    "q33 = pandasql.sqldf(\"select club, year, avg(overall_change) as avg_overall_change, count(*) as cnt from q32 group by club, year\", globals())\n",
    "q34 = q33[np.abs(stats.zscore(q33[\"cnt\"])) < 2]\n",
    "q35 = pandasql.sqldf(\"select club, sum(avg_overall_change)/6 as avg_overall_change from q34 group by club\", globals())\n",
    "q36=q35.sort_values(\"avg_overall_change\", ascending = False).head(15)\n",
    "q36\n",
    "\n"
   ]
  },
  {
   "cell_type": "code",
   "execution_count": 53,
   "metadata": {},
   "outputs": [
    {
     "data": {
      "text/plain": [
       "Text(0.5, 0, 'potential growth')"
      ]
     },
     "execution_count": 53,
     "metadata": {},
     "output_type": "execute_result"
    },
    {
     "data": {
      "image/png": "[encoded data removed]",
      "text/plain": [
       "<Figure size 432x288 with 1 Axes>"
      ]
     },
     "metadata": {},
     "output_type": "display_data"
    }
   ],
   "source": [
    "ax = sns.barplot(x='avg_overall_change', y='club', data=q36)\n",
    "ax.set_xlabel('potential growth')"
   ]
  },
  {
   "cell_type": "markdown",
   "metadata": {},
   "source": [
    "We have taken potential - overall as metric for this analysis. The idea is if being in a club for a year helps a player to bring the gap between potential - overall down then thats a good club. What we have done is:\n",
    "\n",
    "1) Get all differences between potential - overall for each payer and each club\n",
    "\n",
    "2) Get the difference it have moved from 1 year to the next year. Thats the contribution by the club\n",
    "\n",
    "3) Remove the outlier from the YoY changes\n",
    "\n",
    "4) Get he average change by year by club and remove the year and clubs where we have less samples.\n",
    "\n",
    "5) Then get the average by club for last 6 year.\n",
    "\n",
    "6) If one club have less than 6 years data then the score will be lower\n"
   ]
  },
  {
   "cell_type": "markdown",
   "metadata": {},
   "source": [
    "__END__"
   ]
  }
 ],
 "metadata": {
  "kernelspec": {
   "display_name": "Python 3",
   "language": "python",
   "name": "python3"
  },
  "language_info": {
   "codemirror_mode": {
    "name": "ipython",
    "version": 3
   },
   "file_extension": ".py",
   "mimetype": "text/x-python",
   "name": "python",
   "nbconvert_exporter": "python",
   "pygments_lexer": "ipython3",
   "version": "3.7.3"
  }
 },
 "nbformat": 4,
 "nbformat_minor": 2
}
